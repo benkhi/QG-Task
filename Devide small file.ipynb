{
 "cells": [
  {
   "cell_type": "code",
   "execution_count": 2,
   "id": "32a844d6-e57c-4499-ac5a-ed3c16d86bc3",
   "metadata": {},
   "outputs": [
    {
     "name": "stdout",
     "output_type": "stream",
     "text": [
      "375580\n"
     ]
    }
   ],
   "source": [
    "from tqdm import tqdm\n",
    "import sys\n",
    "import os\n",
    "\n",
    "# 파일 목록 로드\n",
    "with open(\"filelist\", 'r') as f:\n",
    "    f_list = f.readlines()\n",
    "\n",
    "len_total = len(f_list)\n",
    "print(len_total)"
   ]
  },
  {
   "cell_type": "code",
   "execution_count": 14,
   "id": "e77c5b22-1184-477f-b636-5b50129555be",
   "metadata": {},
   "outputs": [],
   "source": [
    "with open('filelist') as infile:\n",
    "    file_line_limit = 1000\n",
    "    counter = -1\n",
    "    file_index = 0\n",
    "    outfile = None\n",
    "    for line in infile.readlines():\n",
    "        counter += 1\n",
    "        if counter % file_line_limit == 0:\n",
    "            # close old file\n",
    "            if outfile is not None:\n",
    "                outfile.close()\n",
    "            # create new file\n",
    "            file_index += 1\n",
    "            outfile = open('./1kDocs/file_%01d' % file_index, 'w')\n",
    "        # write to file\n",
    "        outfile.write(line)"
   ]
  },
  {
   "cell_type": "code",
   "execution_count": null,
   "id": "2ed6a996-0da4-40e4-942b-6cd12bbf7f82",
   "metadata": {},
   "outputs": [],
   "source": [
    "#/home2/dalya/CTs/CTs-processed-v1/list"
   ]
  },
  {
   "cell_type": "code",
   "execution_count": 17,
   "id": "cbeb8d9a-fd46-4c18-b48a-384f781c952f",
   "metadata": {},
   "outputs": [
    {
     "name": "stdout",
     "output_type": "stream",
     "text": [
      "358970\n"
     ]
    }
   ],
   "source": [
    "from tqdm import tqdm\n",
    "import sys\n",
    "import os\n",
    "\n",
    "# 파일 목록 로드\n",
    "with open(\"myfilelist1\", 'r') as f:\n",
    "    f_list = f.readlines()\n",
    "\n",
    "len_total = len(f_list)\n",
    "print(len_total)"
   ]
  },
  {
   "cell_type": "code",
   "execution_count": 18,
   "id": "69facac1-fa0c-4804-925b-b69a9269d14a",
   "metadata": {},
   "outputs": [],
   "source": [
    "with open('myfilelist1') as infile:\n",
    "    file_line_limit = 1800\n",
    "    counter = -1\n",
    "    file_index = 0\n",
    "    outfile = None\n",
    "    for line in infile.readlines():\n",
    "        counter += 1\n",
    "        if counter % file_line_limit == 0:\n",
    "            # close old file\n",
    "            if outfile is not None:\n",
    "                outfile.close()\n",
    "            # create new file\n",
    "            file_index += 1\n",
    "            outfile = open('./list1/file_%01d' % file_index, 'w')\n",
    "        # write to file\n",
    "        outfile.write(line)"
   ]
  },
  {
   "cell_type": "code",
   "execution_count": null,
   "id": "e82ed515-df9b-4d6e-bc9f-4e50e407579a",
   "metadata": {},
   "outputs": [],
   "source": []
  }
 ],
 "metadata": {
  "kernelspec": {
   "display_name": "Python 3",
   "language": "python",
   "name": "python3"
  },
  "language_info": {
   "codemirror_mode": {
    "name": "ipython",
    "version": 3
   },
   "file_extension": ".py",
   "mimetype": "text/x-python",
   "name": "python",
   "nbconvert_exporter": "python",
   "pygments_lexer": "ipython3",
   "version": "3.6.13"
  }
 },
 "nbformat": 4,
 "nbformat_minor": 5
}
