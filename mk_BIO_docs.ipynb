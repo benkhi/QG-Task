{
 "cells": [
  {
   "cell_type": "markdown",
   "id": "06f2c43b-4eed-42b6-9450-d00fbec50320",
   "metadata": {},
   "source": [
    "## Get ClinicalTerms from ClinicalTrials\n",
    "### Operation run in background even if JupyterLab is broken.."
   ]
  },
  {
   "cell_type": "code",
   "execution_count": null,
   "id": "64a4b424-3c57-46f6-9c5e-c6df53846d4b",
   "metadata": {},
   "outputs": [],
   "source": [
    "from tqdm import tqdm\n",
    "import sys\n",
    "import os\n",
    "\n",
    "# 파일 목록 로드 /home2/dalya/CTs/CTs-processed-v1/list\n",
    "with open(\"/home2/TREC_collections/TREC-CT/filelist\", 'r') as f:\n",
    "    f_list = f.readlines()\n",
    "\n",
    "len_total = len(f_list)\n",
    "print(len_total, f_list[1])"
   ]
  },
  {
   "cell_type": "code",
   "execution_count": null,
   "id": "ffafd1f6-4624-441c-b212-6a823674aa88",
   "metadata": {},
   "outputs": [],
   "source": [
    "#import xml.etree.ElementTree as ET\n",
    "#f_path = \"/home2/ukyoung/my-python/TREC/문서전처리_0712/CTs-processed-v1\"\n",
    "f_path = \"/home2/dalya/TREC/CTs-processed-v1/\"\n",
    "\n",
    "# find last continued point\n",
    "_f = 'NCT00159172.xml'\n",
    "for idx in range(1, len_total + 1):\n",
    "    #print(idx, end=' ')\n",
    "    if _f == f_list[idx][46:-1]:\n",
    "        print(idx)\n",
    "        break"
   ]
  },
  {
   "cell_type": "code",
   "execution_count": null,
   "id": "bf838a5b-2862-461b-8d4d-40344e068035",
   "metadata": {
    "scrolled": true,
    "tags": []
   },
   "outputs": [],
   "source": [
    "#import xml.etree.ElementTree as ET\n",
    "#f_path = \"/home2/ukyoung/my-python/TREC/문서전처리_0712/CTs-processed-v1\"\n",
    "from datetime import datetime\n",
    "start = datetime.now()\n",
    "\n",
    "f_path = \"/home2/dalya/TREC/CTs-processed-v1/\"\n",
    "\n",
    "for idx in range(24658, len_total + 1):\n",
    "    doc_path = f_path + f_list[idx][1:-1]\n",
    "    try:\n",
    "        script_descriptor = open(\"ClinicalBERT_BIO.py\")\n",
    "        a_script = script_descriptor.read()\n",
    "        sys.argv = [\"ClinicalBERT_BIO.py\", doc_path]\n",
    "\n",
    "        exec(a_script)\n",
    "        script_descriptor.close()\n",
    "    except:\n",
    "        print(str(idx) + ' error..', end=' ')\n",
    "        #pass\n",
    "        "
   ]
  },
  {
   "cell_type": "code",
   "execution_count": null,
   "id": "a13d8205-217b-49dc-9c82-432937389cb0",
   "metadata": {},
   "outputs": [],
   "source": [
    "print (start)"
   ]
  },
  {
   "cell_type": "code",
   "execution_count": null,
   "id": "0a5c8b89-20d4-4eed-a449-b8c7792cb8eb",
   "metadata": {},
   "outputs": [],
   "source": []
  }
 ],
 "metadata": {
  "kernelspec": {
   "display_name": "Python 3",
   "language": "python",
   "name": "python3"
  },
  "language_info": {
   "codemirror_mode": {
    "name": "ipython",
    "version": 3
   },
   "file_extension": ".py",
   "mimetype": "text/x-python",
   "name": "python",
   "nbconvert_exporter": "python",
   "pygments_lexer": "ipython3",
   "version": "3.6.13"
  }
 },
 "nbformat": 4,
 "nbformat_minor": 5
}
