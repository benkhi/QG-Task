{
  "nbformat": 4,
  "nbformat_minor": 0,
  "metadata": {
    "colab": {
      "provenance": []
    },
    "kernelspec": {
      "name": "python3",
      "display_name": "Python 3"
    },
    "language_info": {
      "name": "python"
    }
  },
  "cells": [
    {
      "cell_type": "code",
      "source": [
        "from keybert import KeyBERT\n",
        "\n",
        "doc = \"\"\"\n",
        "         among various programs , tv talk shows have covered every inch of space on daytime television . but no two shows are more opposite in content , while at the same time standing out above the rest , than the jerry springer and oprah winfrey shows . jerry springer could easily be considered the king of \" rubbish talk \" . the show takes the ever-common talk show titles of love , sex , cheating , and hate , to a different level . clearly , the jerry springer show is about the dark side of society , yet people are willing to eat up the troubles of other people 's lives . like jerry springer , oprah winfrey takes the tv talk show to its top . but oprah goes in the opposite direction . the show is mainly about the improvement of society and different quality of life . contents are from teaching your children lessons , managing your work week , to getting to know your neighbors . compared to oprah , the jerry springer show looks like poisonous waste being poured into society . jerry ends every show with a \" final word \" . he makes a small speech about the entire idea of the show . hopefully , this is the part where most people will learn something very valuable . clean as it is , the oprah show is not for everyone . the show 's main audience are middle-class americans . most of the people have the time , money and ability to deal with life 's tough problems . jerry springer , on the other hand , has more of a connection with the young adults of society . \n",
        "\n",
        "          \"\"\"\n",
        "kw_model = KeyBERT()\n",
        "keywords = kw_model.extract_keywords(doc)"
      ],
      "metadata": {
        "id": "oJhxg7Efih1z"
      },
      "execution_count": null,
      "outputs": []
    },
    {
      "cell_type": "code",
      "source": [
        "#extract keyphrases iter\n",
        "kw_model.extract_keywords(doc, keyphrase_ngram_range=(1, 1), stop_words=None)"
      ],
      "metadata": {
        "colab": {
          "base_uri": "https://localhost:8080/"
        },
        "id": "XamqgvC6okzI",
        "outputId": "92ac033d-c3d1-4752-e175-dad581c22d27"
      },
      "execution_count": null,
      "outputs": [
        {
          "output_type": "execute_result",
          "data": {
            "text/plain": [
              "[('oprah', 0.4407),\n",
              " ('springer', 0.3556),\n",
              " ('shows', 0.3025),\n",
              " ('television', 0.2908),\n",
              " ('winfrey', 0.2844)]"
            ]
          },
          "metadata": {},
          "execution_count": 20
        }
      ]
    },
    {
      "cell_type": "code",
      "source": [
        "kw_model.extract_keywords(doc, keyphrase_ngram_range=(1, 2), stop_words=None)"
      ],
      "metadata": {
        "colab": {
          "base_uri": "https://localhost:8080/"
        },
        "id": "wKVi7aJHop8o",
        "outputId": "109de6ed-f45d-4d13-c81f-a634462479de"
      },
      "execution_count": null,
      "outputs": [
        {
          "output_type": "execute_result",
          "data": {
            "text/plain": [
              "[('springer oprah', 0.5926),\n",
              " ('oprah show', 0.5679),\n",
              " ('but oprah', 0.4932),\n",
              " ('springer show', 0.4851),\n",
              " ('jerry springer', 0.4802)]"
            ]
          },
          "metadata": {},
          "execution_count": 21
        }
      ]
    },
    {
      "cell_type": "code",
      "source": [
        "keywords = kw_model.extract_keywords(doc, highlight=True)"
      ],
      "metadata": {
        "colab": {
          "base_uri": "https://localhost:8080/",
          "height": 225
        },
        "id": "yEJMhyplo9Z3",
        "outputId": "4fec8a27-d58e-4046-f568-f7df55ef67c2"
      },
      "execution_count": null,
      "outputs": [
        {
          "output_type": "display_data",
          "data": {
            "text/plain": [
              "among various programs tv talk \u001b[30;48;2;255;255;0mshows\u001b[0m have covered every inch of space on daytime \u001b[30;48;2;255;255;0mtelevision\u001b[0m but no two \u001b[30;48;2;255;255;0mshows\u001b[0m are \n",
              "more opposite in content while at the same time standing out above the rest than the jerry \u001b[30;48;2;255;255;0mspringer\u001b[0m and \u001b[30;48;2;255;255;0moprah\u001b[0m \n",
              "\u001b[30;48;2;255;255;0mwinfrey\u001b[0m \u001b[30;48;2;255;255;0mshows\u001b[0m jerry \u001b[30;48;2;255;255;0mspringer\u001b[0m could easily be considered the king of rubbish talk the show takes the ever common \n",
              "talk show titles of love sex cheating and hate to different level clearly the jerry \u001b[30;48;2;255;255;0mspringer\u001b[0m show is about the dark\n",
              "side of society yet people are willing to eat up the troubles of other people lives like jerry \u001b[30;48;2;255;255;0mspringer\u001b[0m \u001b[30;48;2;255;255;0moprah\u001b[0m \n",
              "\u001b[30;48;2;255;255;0mwinfrey\u001b[0m takes the tv talk show to its top but \u001b[30;48;2;255;255;0moprah\u001b[0m goes in the opposite direction the show is mainly about the \n",
              "improvement of society and different quality of life contents are from teaching your children lessons managing your\n",
              "work week to getting to know your neighbors compared to \u001b[30;48;2;255;255;0moprah\u001b[0m the jerry \u001b[30;48;2;255;255;0mspringer\u001b[0m show looks like poisonous waste \n",
              "being poured into society jerry ends every show with final word he makes small speech about the entire idea of the \n",
              "show hopefully this is the part where most people will learn something very valuable clean as it is the \u001b[30;48;2;255;255;0moprah\u001b[0m show \n",
              "is not for everyone the show main audience are middle class americans most of the people have the time money and \n",
              "ability to deal with life tough problems jerry \u001b[30;48;2;255;255;0mspringer\u001b[0m on the other hand has more of connection with the young \n",
              "adults of society\n"
            ],
            "text/html": [
              "<pre style=\"white-space:pre;overflow-x:auto;line-height:normal;font-family:Menlo,'DejaVu Sans Mono',consolas,'Courier New',monospace\">among various programs tv talk <span style=\"color: #000000; text-decoration-color: #000000; background-color: #ffff00\">shows</span> have covered every inch of space on daytime <span style=\"color: #000000; text-decoration-color: #000000; background-color: #ffff00\">television</span> but no two <span style=\"color: #000000; text-decoration-color: #000000; background-color: #ffff00\">shows</span> are \n",
              "more opposite in content while at the same time standing out above the rest than the jerry <span style=\"color: #000000; text-decoration-color: #000000; background-color: #ffff00\">springer</span> and <span style=\"color: #000000; text-decoration-color: #000000; background-color: #ffff00\">oprah</span> \n",
              "<span style=\"color: #000000; text-decoration-color: #000000; background-color: #ffff00\">winfrey</span> <span style=\"color: #000000; text-decoration-color: #000000; background-color: #ffff00\">shows</span> jerry <span style=\"color: #000000; text-decoration-color: #000000; background-color: #ffff00\">springer</span> could easily be considered the king of rubbish talk the show takes the ever common \n",
              "talk show titles of love sex cheating and hate to different level clearly the jerry <span style=\"color: #000000; text-decoration-color: #000000; background-color: #ffff00\">springer</span> show is about the dark\n",
              "side of society yet people are willing to eat up the troubles of other people lives like jerry <span style=\"color: #000000; text-decoration-color: #000000; background-color: #ffff00\">springer</span> <span style=\"color: #000000; text-decoration-color: #000000; background-color: #ffff00\">oprah</span> \n",
              "<span style=\"color: #000000; text-decoration-color: #000000; background-color: #ffff00\">winfrey</span> takes the tv talk show to its top but <span style=\"color: #000000; text-decoration-color: #000000; background-color: #ffff00\">oprah</span> goes in the opposite direction the show is mainly about the \n",
              "improvement of society and different quality of life contents are from teaching your children lessons managing your\n",
              "work week to getting to know your neighbors compared to <span style=\"color: #000000; text-decoration-color: #000000; background-color: #ffff00\">oprah</span> the jerry <span style=\"color: #000000; text-decoration-color: #000000; background-color: #ffff00\">springer</span> show looks like poisonous waste \n",
              "being poured into society jerry ends every show with final word he makes small speech about the entire idea of the \n",
              "show hopefully this is the part where most people will learn something very valuable clean as it is the <span style=\"color: #000000; text-decoration-color: #000000; background-color: #ffff00\">oprah</span> show \n",
              "is not for everyone the show main audience are middle class americans most of the people have the time money and \n",
              "ability to deal with life tough problems jerry <span style=\"color: #000000; text-decoration-color: #000000; background-color: #ffff00\">springer</span> on the other hand has more of connection with the young \n",
              "adults of society\n",
              "</pre>\n"
            ]
          },
          "metadata": {}
        }
      ]
    },
    {
      "cell_type": "code",
      "source": [
        "#context position\n",
        "kw_model.extract_keywords(doc, keyphrase_ngram_range=(3, 3), stop_words='english',\n",
        "                              use_maxsum=True, nr_candidates=20, top_n=5)"
      ],
      "metadata": {
        "colab": {
          "base_uri": "https://localhost:8080/"
        },
        "id": "8tE5ARb_o-7_",
        "outputId": "849aa336-b9be-4e28-c694-8c54dbfdd141"
      },
      "execution_count": null,
      "outputs": [
        {
          "output_type": "execute_result",
          "data": {
            "text/plain": [
              "[('jerry springer dark', 0.4622),\n",
              " ('like jerry springer', 0.4696),\n",
              " ('winfrey takes tv', 0.4824),\n",
              " ('clean oprah main', 0.4923),\n",
              " ('neighbors compared oprah', 0.5071)]"
            ]
          },
          "metadata": {},
          "execution_count": 23
        }
      ]
    },
    {
      "cell_type": "code",
      "source": [
        "kw_model.extract_keywords(doc, keyphrase_ngram_range=(3, 3), stop_words='english',\n",
        "                              use_mmr=True, diversity=0.7)"
      ],
      "metadata": {
        "colab": {
          "base_uri": "https://localhost:8080/"
        },
        "id": "m_pwTOwGpDw3",
        "outputId": "1850324c-d07d-4b9d-e9a0-442504a05594"
      },
      "execution_count": null,
      "outputs": [
        {
          "output_type": "execute_result",
          "data": {
            "text/plain": [
              "[('supervised learning algorithm', 0.6992),\n",
              " ('class labels unseen', 0.3469),\n",
              " ('value called supervisory', 0.2895),\n",
              " ('unseen situations reasonable', 0.2142),\n",
              " ('pairs infers function', 0.1981)]"
            ]
          },
          "metadata": {},
          "execution_count": 7
        }
      ]
    },
    {
      "cell_type": "code",
      "source": [
        "kw_model.extract_keywords(doc, keyphrase_ngram_range=(3, 3), stop_words='english',\n",
        "                              use_mmr=True, diversity=0.2)"
      ],
      "metadata": {
        "colab": {
          "base_uri": "https://localhost:8080/"
        },
        "id": "xTsqPR2GpGTf",
        "outputId": "8a46ff3a-c251-440e-a531-304f555d3f72"
      },
      "execution_count": null,
      "outputs": [
        {
          "output_type": "execute_result",
          "data": {
            "text/plain": [
              "[('supervised learning algorithm', 0.6992),\n",
              " ('supervised learning example', 0.6807),\n",
              " ('supervised learning machine', 0.6706),\n",
              " ('function labeled training', 0.663),\n",
              " ('supervisory signal supervised', 0.5802)]"
            ]
          },
          "metadata": {},
          "execution_count": 8
        }
      ]
    },
    {
      "cell_type": "code",
      "source": [
        "text = \"\"\" \n",
        "          alice 's mother died when she was five . although her brothers and sisters were loving and caring , their love could n't take the place of a mother 's . in 1925 alice became my mother and told me that her family could n't even afford her a doll . one afternoon in december 1982 , when i was getting ready for christmas , i suddenly decided to buy two dolls , one for my five-year-old daughter , katie , and one for my old mother . things went smoothly when a friend told me that his dad , who played santa claus in my area , would be willing to make a visit on christmas morning to our home with the gifts ! knowing that my parents would also come to my house , i began to get ready for the most memorable day of my mother 's life . christmas day arrived and so did santa claus at the planned time . katie was very excited and happy all the time to welcome the santa . my mother was enjoying watching katie welcoming this special guest . as santa turned to leave he looked again into his bag and took out one more gift . as he asked who alice was , my mother , without thinking of her name being called , said that she in fact was alice . santa handed her the gift with a message card that read : for alice : i was cleaning out my sleigh before my trip this year and came across this package that should be sent on december 25 , 1925 . the gift inside has aged , but i felt that you might still wish to have it . many apologies for the lateness of the gift . love , santa claus my mother was very excited and deeply moved to tears . she could n't speak but only held tightly in her arms the doll she had waited fifty-seven years to receive as tears of joy flew down her face . that doll made my mother the happiest \" child \" .\n",
        "\n",
        "          \"\"\"\n",
        "words = ['alice', 'santa', 'claus', 'doll', 'christmas']\n",
        "sentences = [\n",
        "    sentence for sentence in text.split(\".\") if any(\n",
        "        w.lower() in sentence.lower() for w in words\n",
        "    )\n",
        "]\n",
        "\n",
        "print(sentences)"
      ],
      "metadata": {
        "colab": {
          "base_uri": "https://localhost:8080/"
        },
        "id": "DiVfDXSSy640",
        "outputId": "61bab3ca-b1c5-4f22-ed1b-5ce954025ff5"
      },
      "execution_count": 34,
      "outputs": [
        {
          "output_type": "stream",
          "name": "stdout",
          "text": [
            "[\" \\n          alice 's mother died when she was five \", \" in 1925 alice became my mother and told me that her family could n't even afford her a doll \", ' one afternoon in december 1982 , when i was getting ready for christmas , i suddenly decided to buy two dolls , one for my five-year-old daughter , katie , and one for my old mother ', \" things went smoothly when a friend told me that his dad , who played santa claus in my area , would be willing to make a visit on christmas morning to our home with the gifts ! knowing that my parents would also come to my house , i began to get ready for the most memorable day of my mother 's life \", ' christmas day arrived and so did santa claus at the planned time ', ' katie was very excited and happy all the time to welcome the santa ', ' as santa turned to leave he looked again into his bag and took out one more gift ', ' as he asked who alice was , my mother , without thinking of her name being called , said that she in fact was alice ', ' santa handed her the gift with a message card that read : for alice : i was cleaning out my sleigh before my trip this year and came across this package that should be sent on december 25 , 1925 ', ' love , santa claus my mother was very excited and deeply moved to tears ', \" she could n't speak but only held tightly in her arms the doll she had waited fifty-seven years to receive as tears of joy flew down her face \", ' that doll made my mother the happiest \" child \" ']\n"
          ]
        }
      ]
    },
    {
      "cell_type": "code",
      "source": [
        "text = \"\"\" \n",
        "          one of the most famous basketball-players in the new castle 's history was paralyzed in a wheelchair one day ... and was walking the next . citizens of new castle simply refer to it as \" the miracle \" . joel haler woke up in his dorm room at hope college last october totally paralyzed from the waist down . four hospitals later , the only way he could walk was through robotic walking treatment . \" this past tuesday , i was doing the robotic walk and lasted ten minutes , \" joel said . after that , he gave up . joel wanted to accept the inevitable and cancelled his next robotic walking treatment appointment . then , the night before his cancelled appointment , he woke up to a terrible pain . an hour and a half later , the serious pain left him with an unusual feeling in his legs . \" as it continued to move up my legs , it became more and more painful and it took an hour and a half to reach my hips , \" joel recalled . \" i stood up and walked into my parents ' room . 'mom and dad , look ! ' , \" he said proudly . \" he said something and i was like , 'joel ! joel ! you 're walking ! you 're walking ! ' we jumped out of bed , cried and hugged , \" joel 's mom karen remembered . \" i burst into tears . it 's hard seeing your son not be able to walk , but he was standing there , walking , \" joel 's father eric said , tearfully . it was thursday , january 23 , when he could finally walk . that date made perfect sense to joel . he had dreamt of a calendar that only said \" j 23 \" . he did n't know what to make of it until \" a little boy at church , four years old , came up to me and said , 'you will walk on a thursday ' , \" joel recalled . so the 20-year-old college student , who could only walk with the aid of robot on tuesday , was walking on his own . \n",
        "\n",
        "          \"\"\"\n",
        "words = ['joel', 'miracle', 'wheelchair', 'paralyzed', 'robotic']\n",
        "sentences = [\n",
        "    sentence for sentence in text.split(\".\") if any(\n",
        "        w.lower() in sentence.lower() for w in words\n",
        "    )\n",
        "]\n",
        "\n",
        "print(sentences)"
      ],
      "metadata": {
        "colab": {
          "base_uri": "https://localhost:8080/"
        },
        "id": "jJ_lf0MQy7HE",
        "outputId": "e1936d13-a133-490a-bd2e-5bd452287704"
      },
      "execution_count": 28,
      "outputs": [
        {
          "output_type": "stream",
          "name": "stdout",
          "text": [
            "[\" \\n          one of the most famous basketball-players in the new castle 's history was paralyzed in a wheelchair one day \", ' citizens of new castle simply refer to it as \" the miracle \" ', ' joel haler woke up in his dorm room at hope college last october totally paralyzed from the waist down ', ' four hospitals later , the only way he could walk was through robotic walking treatment ', ' \" this past tuesday , i was doing the robotic walk and lasted ten minutes , \" joel said ', ' joel wanted to accept the inevitable and cancelled his next robotic walking treatment appointment ', ' \" as it continued to move up my legs , it became more and more painful and it took an hour and a half to reach my hips , \" joel recalled ', ' \" he said something and i was like , \\'joel ! joel ! you \\'re walking ! you \\'re walking ! \\' we jumped out of bed , cried and hugged , \" joel \\'s mom karen remembered ', ' it \\'s hard seeing your son not be able to walk , but he was standing there , walking , \" joel \\'s father eric said , tearfully ', ' that date made perfect sense to joel ', ' he did n\\'t know what to make of it until \" a little boy at church , four years old , came up to me and said , \\'you will walk on a thursday \\' , \" joel recalled ']\n"
          ]
        }
      ]
    },
    {
      "cell_type": "code",
      "source": [
        "text = \"\"\" among various programs , tv talk shows have covered every inch of space on daytime television . but no two shows are more opposite in content , while at the same time standing out above the rest , than the jerry springer and oprah winfrey shows . jerry springer could easily be considered the king of \" rubbish talk \" . the show takes the ever-common talk show titles of love , sex , cheating , and hate , to a different level . clearly , the jerry springer show is about the dark side of society , yet people are willing to eat up the troubles of other people 's lives . like jerry springer , oprah winfrey takes the tv talk show to its top . but oprah goes in the opposite direction . the show is mainly about the improvement of society and different quality of life . contents are from teaching your children lessons , managing your work week , to getting to know your neighbors . compared to oprah , the jerry springer show looks like poisonous waste being poured into society . jerry ends every show with a \" final word \" . he makes a small speech about the entire idea of the show . hopefully , this is the part where most people will learn something very valuable . clean as it is , the oprah show is not for everyone . the show 's main audience are middle-class americans . most of the people have the time , money and ability to deal with life 's tough problems . jerry springer , on the other hand , has more of a connection with the young adults of society . \"\"\"\n",
        "words = ['oprah', 'springer', 'show', 'television', 'winfrey']\n",
        "sentences = [\n",
        "    sentence for sentence in text.split(\".\") if any(\n",
        "        w.lower() in sentence.lower() for w in words\n",
        "    )\n",
        "]\n",
        "\n",
        "print(sentences)"
      ],
      "metadata": {
        "id": "F-mDzE43pJPv",
        "colab": {
          "base_uri": "https://localhost:8080/"
        },
        "outputId": "e450d93e-ea0f-4fcf-ad06-91519975d117"
      },
      "execution_count": 27,
      "outputs": [
        {
          "output_type": "stream",
          "name": "stdout",
          "text": [
            "[' among various programs , tv talk shows have covered every inch of space on daytime television ', ' but no two shows are more opposite in content , while at the same time standing out above the rest , than the jerry springer and oprah winfrey shows ', ' jerry springer could easily be considered the king of \" rubbish talk \" ', ' the show takes the ever-common talk show titles of love , sex , cheating , and hate , to a different level ', \" clearly , the jerry springer show is about the dark side of society , yet people are willing to eat up the troubles of other people 's lives \", ' like jerry springer , oprah winfrey takes the tv talk show to its top ', ' but oprah goes in the opposite direction ', ' the show is mainly about the improvement of society and different quality of life ', ' compared to oprah , the jerry springer show looks like poisonous waste being poured into society ', ' jerry ends every show with a \" final word \" ', ' he makes a small speech about the entire idea of the show ', ' clean as it is , the oprah show is not for everyone ', \" the show 's main audience are middle-class americans \", ' jerry springer , on the other hand , has more of a connection with the young adults of society ']\n"
          ]
        }
      ]
    },
    {
      "cell_type": "code",
      "source": [
        "import spacy\n",
        "nlp = spacy.load(\"en_core_web_sm\")"
      ],
      "metadata": {
        "id": "HK6_54j64oq-"
      },
      "execution_count": 36,
      "outputs": []
    },
    {
      "cell_type": "code",
      "source": [
        "about_text = (\n",
        "    \"\"\"\n",
        "but no two shows are more opposite in content , while at the same time standing out above the rest , than the jerry springer and oprah winfrey shows \n",
        "\n",
        "\n",
        "    \"\"\"\n",
        ")\n",
        "doc = nlp(about_text)\n",
        "sentences = list(doc.sents)\n",
        "len(sentences)\n",
        "\n",
        "for sentence in sentences:\n",
        "  print(f\"{sentence[:5]}...\")"
      ],
      "metadata": {
        "colab": {
          "base_uri": "https://localhost:8080/"
        },
        "id": "2US5_f354o0S",
        "outputId": "d4ac4a5e-1e39-445e-e813-8136765bd331"
      },
      "execution_count": 42,
      "outputs": [
        {
          "output_type": "stream",
          "name": "stdout",
          "text": [
            "\n",
            "but no two shows...\n"
          ]
        }
      ]
    },
    {
      "cell_type": "code",
      "source": [],
      "metadata": {
        "id": "2NxrRcn_yAwm"
      },
      "execution_count": null,
      "outputs": []
    }
  ]
}